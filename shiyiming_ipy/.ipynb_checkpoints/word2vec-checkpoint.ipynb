{
 "cells": [
  {
   "cell_type": "markdown",
   "metadata": {
    "_cell_guid": "95ad3815-ad15-1b9e-c5ed-2205ea9b54e3",
    "_uuid": "e65822600fc99d2f42bd8ab3cba045e664ce5e85"
   },
   "source": [
    "# Word2Vec on Instacart products\n",
    "### The goal of this kernel is to try a Word2Vec model on the sequential data of product orders\n",
    "### The sequences can act as sentences and product ids can act as words, in this kernel we will see if the model will learn any useful information about the products from the order history of all users, maybe in the future this can be used as input to a classifier that recommends products.\n",
    "## This gave me a slight increase in my LB score, so it's a useful feature\n",
    "### Please upvote if you like it and let me know in the discussion if you have any remarks/ideas"
   ]
  },
  {
   "cell_type": "markdown",
   "metadata": {
    "_cell_guid": "03ecf8ae-159e-7431-b7f5-02daf1088b5a",
    "_uuid": "4e9d916d8f28faadba8eaa79902c87b265de6fd0"
   },
   "source": [
    "### Load the needed libraries"
   ]
  },
  {
   "cell_type": "code",
   "execution_count": 1,
   "metadata": {
    "_cell_guid": "a76aaef1-be2a-bd72-0929-1047da62e163",
    "_execution_state": "idle",
    "_uuid": "a09f1e18d3090755cfa49561d797063d0b419cdb",
    "collapsed": false
   },
   "outputs": [
    {
     "name": "stderr",
     "output_type": "stream",
     "text": [
      "D:\\ProgramData\\Anaconda3\\lib\\site-packages\\gensim\\utils.py:860: UserWarning: detected Windows; aliasing chunkize to chunkize_serial\n",
      "  warnings.warn(\"detected Windows; aliasing chunkize to chunkize_serial\")\n"
     ]
    }
   ],
   "source": [
    "import pandas as pd\n",
    "import numpy as np\n",
    "import gensim\n",
    "from matplotlib import pyplot as plt\n",
    "from sklearn.manifold import TSNE\n",
    "\n",
    "%matplotlib inline"
   ]
  },
  {
   "cell_type": "markdown",
   "metadata": {
    "_cell_guid": "2b8256c2-d87e-1aa2-0321-12520c11691c",
    "_uuid": "838ace0f4b91158e60891b177d46519deff6d344"
   },
   "source": [
    "### Load the Data"
   ]
  },
  {
   "cell_type": "code",
   "execution_count": 2,
   "metadata": {
    "_cell_guid": "1aa25d77-9705-aea4-f702-39465732e6e0",
    "_execution_state": "idle",
    "_uuid": "ed09f158d784c35358898505f06e986bf90823c8",
    "collapsed": true
   },
   "outputs": [],
   "source": [
    "train_orders = pd.read_csv(\"../dataset/order_products__train.csv\")\n",
    "prior_orders = pd.read_csv(\"../dataset/order_products__prior.csv\")\n",
    "products = pd.read_csv(\"../dataset/products.csv\").set_index('product_id')"
   ]
  },
  {
   "cell_type": "markdown",
   "metadata": {
    "_cell_guid": "ba83c492-a018-aa2e-e9a1-e1a5cfbb4926",
    "_uuid": "f71367766847b3455e4df3442639957e12255b70"
   },
   "source": [
    "### Turn the product ID to a string\n",
    "#### This is necessary because Gensim's Word2Vec expects sentences, so we have to resort to this dirty workaround"
   ]
  },
  {
   "cell_type": "code",
   "execution_count": null,
   "metadata": {
    "_cell_guid": "f4991a97-8c21-5ac2-8cc1-97161c2244f7",
    "_execution_state": "idle",
    "_uuid": "48245f664e931d3a52c0a560a8db4f83c0a8fe9f",
    "collapsed": false
   },
   "outputs": [],
   "source": [
    "train_orders[\"product_id\"] = train_orders[\"product_id\"].astype(str)\n",
    "prior_orders[\"product_id\"] = prior_orders[\"product_id\"].astype(str)"
   ]
  },
  {
   "cell_type": "markdown",
   "metadata": {
    "_cell_guid": "92937791-23b3-70d5-fa8c-6f012f35326c",
    "_uuid": "8665fbc6694ddff1d54d7b8e619779ab759313c0"
   },
   "source": [
    "### Extract the ordered products in each order"
   ]
  },
  {
   "cell_type": "code",
   "execution_count": null,
   "metadata": {
    "_cell_guid": "98c1d70f-df71-2216-ac72-8dcb8947cb0a",
    "_uuid": "e375e8d4f9e553cd63e48550d1a90547a2e01773",
    "collapsed": true
   },
   "outputs": [],
   "source": [
    "train_products = train_orders.groupby(\"order_id\").apply(lambda order: order['product_id'].tolist())\n",
    "prior_products = prior_orders.groupby(\"order_id\").apply(lambda order: order['product_id'].tolist())"
   ]
  },
  {
   "cell_type": "markdown",
   "metadata": {
    "_cell_guid": "2a515ef5-2317-4642-79ae-7621b8012b70",
    "_uuid": "48144848b51e8f737e8da21c24c4d1f3df80c663"
   },
   "source": [
    "### Create the final sentences"
   ]
  },
  {
   "cell_type": "code",
   "execution_count": null,
   "metadata": {
    "_cell_guid": "75f59b73-c8ef-3696-9e71-2f7891538a6e",
    "_uuid": "f90e439f6b038810b1c018ea5f31d8f9faf37654",
    "collapsed": true
   },
   "outputs": [],
   "source": [
    "sentences = prior_products.append(train_products).values"
   ]
  },
  {
   "cell_type": "markdown",
   "metadata": {
    "_cell_guid": "c8f3ce28-7e7f-c15f-ef64-712d69b820a2",
    "_uuid": "06be8e98d9b2e5c20fd2ac4787aed3872d6ee415"
   },
   "source": [
    "### Train Word2Vec model"
   ]
  },
  {
   "cell_type": "code",
   "execution_count": null,
   "metadata": {
    "_cell_guid": "54935e0b-b61d-eaa5-92a7-651a678d935d",
    "_uuid": "495e70dd8c4c68fcf9b1b5526f33970a83233705",
    "collapsed": true
   },
   "outputs": [],
   "source": [
    "model = gensim.models.Word2Vec(sentences, size=100, window=5, min_count=5, workers=4)"
   ]
  },
  {
   "cell_type": "markdown",
   "metadata": {
    "_cell_guid": "634fb194-b042-a662-538f-dcc24d3dfc17",
    "_uuid": "fa35a21b39199d7172c78b26fabac43ec6bbc5e3"
   },
   "source": [
    "### Organize data for visualization"
   ]
  },
  {
   "cell_type": "code",
   "execution_count": null,
   "metadata": {
    "_cell_guid": "6001de86-5a3f-7fe5-1f74-3e31d3e2af14",
    "_uuid": "6567eaea1bdd1b44e872600a98eff6350ca8a657",
    "collapsed": true
   },
   "outputs": [],
   "source": [
    "vocab = list(model.wv.vocab.keys())"
   ]
  },
  {
   "cell_type": "markdown",
   "metadata": {
    "_cell_guid": "ae7d0731-3cbd-64fe-dabe-b9b7832cf6f1",
    "_uuid": "3f495992519eb033a10670ea79aad2ee6bc83632"
   },
   "source": [
    "### Some helpers for visualization"
   ]
  },
  {
   "cell_type": "code",
   "execution_count": null,
   "metadata": {
    "_cell_guid": "210b9d90-c397-335e-2517-8e251ed0c5e3",
    "_uuid": "79c5cb4919ca379de2e3d37d66ff03363259eb7e",
    "collapsed": true
   },
   "outputs": [],
   "source": [
    "def get_batch(vocab, model, n_batches=3):\n",
    "    output = list()\n",
    "    for i in range(0, n_batches):\n",
    "        rand_int = np.random.randint(len(vocab), size=1)[0]\n",
    "        suggestions = model.most_similar(positive=[vocab[rand_int]], topn=5)\n",
    "        suggest = list()\n",
    "        for i in suggestions:\n",
    "            suggest.append(i[0])\n",
    "        output += suggest\n",
    "        output.append(vocab[rand_int])\n",
    "    return output\n",
    "\n",
    "def plot_with_labels(low_dim_embs, labels, filename='tsne.png'):\n",
    "    \"\"\"From Tensorflow's tutorial.\"\"\"\n",
    "    assert low_dim_embs.shape[0] >= len(labels), \"More labels than embeddings\"\n",
    "    plt.figure(figsize=(18, 18))  #in inches\n",
    "    for i, label in enumerate(labels):\n",
    "        x, y = low_dim_embs[i,:]\n",
    "        plt.scatter(x, y)\n",
    "        plt.annotate(label,\n",
    "                     xy=(x, y),\n",
    "                     xytext=(5, 2),\n",
    "                     textcoords='offset points',\n",
    "                     ha='right',\n",
    "                     va='bottom')\n",
    "#     plt.savefig(filename)\n",
    "    plt.show()"
   ]
  },
  {
   "cell_type": "markdown",
   "metadata": {
    "_cell_guid": "6982b03c-a96f-1055-2116-2a76affe9c90",
    "_uuid": "253dfb655f4b3172040404e76560a83654f68b27"
   },
   "source": [
    "### Visualize a random sample"
   ]
  },
  {
   "cell_type": "code",
   "execution_count": null,
   "metadata": {
    "_cell_guid": "9b15cdd9-274f-f0b0-6156-29476e60939e",
    "_uuid": "f3422a10542a0512b0da020a0ad51b7f7885299d",
    "collapsed": true
   },
   "outputs": [],
   "source": [
    "tsne = TSNE()\n",
    "embeds = []\n",
    "labels = []\n",
    "for item in get_batch(vocab, model, n_batches=10):\n",
    "    embeds.append(model[item])\n",
    "    labels.append(products.loc[int(item)]['product_name'])\n",
    "embeds = np.array(embeds)\n",
    "\n",
    "embeds = tsne.fit_transform(embeds)\n",
    "plot_with_labels(embeds, labels)"
   ]
  },
  {
   "cell_type": "markdown",
   "metadata": {
    "_cell_guid": "056bdf57-901a-eee4-4d8f-cfb78a82901d",
    "_uuid": "56a9fdf3b1256d7e040be7c7df01ac4cd7bc3e79"
   },
   "source": [
    "### Save the model"
   ]
  },
  {
   "cell_type": "code",
   "execution_count": null,
   "metadata": {
    "_cell_guid": "5e3c7611-1e76-64ff-bd5a-d85ed7b14fbb",
    "_uuid": "6b21170f84ace799abe940f658d87ef42beaf04c",
    "collapsed": true
   },
   "outputs": [],
   "source": [
    "model.save(\"product2vec.model\")"
   ]
  }
 ],
 "metadata": {
  "_change_revision": 0,
  "_is_fork": false,
  "kernelspec": {
   "display_name": "Python 3",
   "language": "python",
   "name": "python3"
  },
  "language_info": {
   "codemirror_mode": {
    "name": "ipython",
    "version": 3
   },
   "file_extension": ".py",
   "mimetype": "text/x-python",
   "name": "python",
   "nbconvert_exporter": "python",
   "pygments_lexer": "ipython3",
   "version": "3.6.0"
  }
 },
 "nbformat": 4,
 "nbformat_minor": 0
}
